{
 "cells": [
  {
   "cell_type": "code",
   "execution_count": 64,
   "id": "bb73613b",
   "metadata": {},
   "outputs": [],
   "source": [
    "from collections import OrderedDict # fastest way to remove duplicates from a list\n",
    "import hashlib # inbuilt library containing hash functions \n",
    "import textwrap # used to split a string into group of n characters"
   ]
  },
  {
   "cell_type": "code",
   "execution_count": 36,
   "id": "60098ec0",
   "metadata": {},
   "outputs": [
    {
     "name": "stdout",
     "output_type": "stream",
     "text": [
      "['123456789', 'password', 'iloveyou', 'princess', '12345678', 'babygirl', 'michelle', 'sunshine', 'chocolate', 'password1', 'butterfly', 'liverpool', 'football', 'jennifer', '1234567890', 'superman', 'basketball', 'elizabeth', 'tinkerbell', 'samantha']\n"
     ]
    }
   ],
   "source": [
    "passwords_list = []\n",
    "\n",
    "# Importing the file content into a list\n",
    "with open(\"rockyou.txt\", \"r\", encoding='cp437') as rockyou_file:\n",
    "    \n",
    "    # Iterate over each record (password)\n",
    "    for password in rockyou_file:\n",
    "        \n",
    "        # Ignore empty records and those with length below 6\n",
    "        password = password.strip()\n",
    "        if password and len(password) > 7:\n",
    "            passwords_list.append(password)\n",
    "            \n",
    "    # Remove spaces around the password, and remove the line breaker      \n",
    "    for index, password in enumerate(passwords_list):\n",
    "        passwords_list[index] = password.strip().replace('\\n', '')\n",
    "\n",
    "\n",
    "print(passwords_list[0:20])"
   ]
  },
  {
   "cell_type": "code",
   "execution_count": 37,
   "id": "002abbca",
   "metadata": {},
   "outputs": [
    {
     "data": {
      "text/plain": [
       "'\\x04*\\x037┬íVamos!\\x03'"
      ]
     },
     "execution_count": 37,
     "metadata": {},
     "output_type": "execute_result"
    }
   ],
   "source": [
    "passwords_list[-1] # List holds the passwords in decoded format"
   ]
  },
  {
   "cell_type": "code",
   "execution_count": 38,
   "id": "799c4545",
   "metadata": {},
   "outputs": [
    {
     "name": "stdout",
     "output_type": "stream",
     "text": [
      "\u0004*\u00037┬íVamos!\u0003\n"
     ]
    }
   ],
   "source": [
    "print(passwords_list[-1]) # print statement prints the encoded string"
   ]
  },
  {
   "cell_type": "code",
   "execution_count": 39,
   "id": "48ca4125",
   "metadata": {},
   "outputs": [
    {
     "data": {
      "text/plain": [
       "9610201"
      ]
     },
     "execution_count": 39,
     "metadata": {},
     "output_type": "execute_result"
    }
   ],
   "source": [
    "len(passwords_list)"
   ]
  },
  {
   "cell_type": "code",
   "execution_count": 40,
   "id": "2a8c2a47",
   "metadata": {},
   "outputs": [],
   "source": [
    "# Removing duplicates from the list\n",
    "passwords_list = list(OrderedDict.fromkeys(passwords_list))"
   ]
  },
  {
   "cell_type": "code",
   "execution_count": 41,
   "id": "57b4c9c9",
   "metadata": {},
   "outputs": [
    {
     "data": {
      "text/plain": [
       "9610011"
      ]
     },
     "execution_count": 41,
     "metadata": {},
     "output_type": "execute_result"
    }
   ],
   "source": [
    "len(passwords_list) # Length of the list after removing duplicates"
   ]
  },
  {
   "cell_type": "code",
   "execution_count": 78,
   "id": "5d3e4eaf",
   "metadata": {},
   "outputs": [],
   "source": [
    "d = dict()\n",
    "\n",
    "duplicate_count = 0\n",
    "\n",
    "for password in passwords_list:\n",
    "    \n",
    "    password_digest = hashlib.sha256(password.encode('utf-8')).hexdigest()\n",
    "    \n",
    "    password_chunks = textwrap.wrap(password_digest, 4)\n",
    "    \n",
    "    bitset_indices = []\n",
    "    \n",
    "    isFirstChunk = True\n",
    "    \n",
    "    for chunk in password_chunks:\n",
    "        \n",
    "        equivalent_decimal = int(chunk, 16)\n",
    "        \n",
    "        bitset_indices.append(equivalent_decimal)\n",
    "\n",
    "    bitset_indices.sort()\n",
    "    \n",
    "    decimal_csv = \",\".join(map(str,bitset_indices))\n",
    "    \n",
    "    if decimal_csv not in d.keys():\n",
    "        d[decimal_csv] = 1\n",
    "    else:\n",
    "        d[decimal_csv] += 1\n",
    "        duplicate_count += 1"
   ]
  },
  {
   "cell_type": "code",
   "execution_count": 79,
   "id": "c4141cee",
   "metadata": {},
   "outputs": [
    {
     "data": {
      "text/plain": [
       "0"
      ]
     },
     "execution_count": 79,
     "metadata": {},
     "output_type": "execute_result"
    }
   ],
   "source": [
    "duplicate_count"
   ]
  }
 ],
 "metadata": {
  "kernelspec": {
   "display_name": "Python 3 (ipykernel)",
   "language": "python",
   "name": "python3"
  },
  "language_info": {
   "codemirror_mode": {
    "name": "ipython",
    "version": 3
   },
   "file_extension": ".py",
   "mimetype": "text/x-python",
   "name": "python",
   "nbconvert_exporter": "python",
   "pygments_lexer": "ipython3",
   "version": "3.9.12"
  }
 },
 "nbformat": 4,
 "nbformat_minor": 5
}
